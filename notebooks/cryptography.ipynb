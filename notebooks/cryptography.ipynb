{
  "cells": [
    {
      "cell_type": "markdown",
      "metadata": {
        "id": "6saJj6PoXkOf"
      },
      "source": [
        "# Cryptography"
      ]
    },
    {
      "cell_type": "markdown",
      "metadata": {
        "id": "Aue46UK2YMW6"
      },
      "source": [
        "**Why cryptography?**\n",
        "- Cryptographic analysis provides distinct advantages over some more en vogue comp neuro methods, like deep learning\n",
        "  - It sits at a crucial point between supervised and unsupervised learning: you don't need training labels, but you also pull on pre-existing knowledge about the structure of information in the world\n",
        "- Cryptographic analysis centers on using the underlying non-uniform distribution of data in the world to decode information\n",
        "  - This is something humans naturally do to learn -- e.g. children use morpheme co-ocurance-rates to learn language\n",
        "  - On a similar note, human adults are able to remember larger numbers of social relationships when they exhibit properties that make them representable in a lower number of bits \n",
        "\n",
        "**What will we cover in this notebook?**\n",
        "- A hands-on example of using cryptographic analysis to break a substitution cipher in English"
      ]
    },
    {
      "cell_type": "code",
      "execution_count": null,
      "metadata": {
        "colab": {
          "base_uri": "https://localhost:8080/",
          "height": 86
        },
        "id": "dinSRX3QXKn-",
        "outputId": "bf98b7a0-059b-46c1-f0c4-3eba91941619"
      },
      "outputs": [
        {
          "data": {
            "text/html": [
              "\n",
              "  <style>\n",
              "    pre {\n",
              "        white-space: pre-wrap;\n",
              "    }\n",
              "  </style>\n",
              "  "
            ],
            "text/plain": [
              "<IPython.core.display.HTML object>"
            ]
          },
          "metadata": {},
          "output_type": "display_data"
        },
        {
          "name": "stdout",
          "output_type": "stream",
          "text": [
            "[nltk_data] Downloading package words to /root/nltk_data...\n",
            "[nltk_data]   Package words is already up-to-date!\n",
            "[nltk_data] Downloading package gutenberg to /root/nltk_data...\n",
            "[nltk_data]   Package gutenberg is already up-to-date!\n"
          ]
        }
      ],
      "source": [
        "#file imports\n",
        "import nltk\n",
        "from nltk.corpus import words as wordlist\n",
        "import re\n",
        "import pandas\n",
        "from collections import Counter\n",
        "import matplotlib.pyplot as plt\n",
        "import numpy as np\n",
        "import random\n",
        "import os\n",
        "from IPython.display import HTML, display\n",
        "import string\n",
        "\n",
        "#set random seed and download corpora\n",
        "os.environ['PYTHONHASHSEED'] = '0'\n",
        "nltk.download('words')\n",
        "nltk.download('gutenberg')\n",
        "\n",
        "#make sure the display fits the width of the page\n",
        "def set_css():\n",
        "  display(HTML('''\n",
        "  <style>\n",
        "    pre {\n",
        "        white-space: pre-wrap;\n",
        "    }\n",
        "  </style>\n",
        "  '''))\n",
        "get_ipython().events.register('pre_run_cell', set_css)\n",
        "\n",
        "def get_letter_distribution(text, plot=False, title='', zipfian=False):\n",
        "  text = re.sub(r'[^a-z]', '', text.lower())\n",
        "  letter_counts = Counter(sorted(text))\n",
        "  if plot:\n",
        "    if zipfian:\n",
        "      letters, vals = zip(*letter_counts.most_common())\n",
        "      letters = np.array(letters)\n",
        "      vals = np.array(vals).astype('float64')\n",
        "      vals /= sum(vals)\n",
        "      plt.bar(letters, vals)\n",
        "    else:\n",
        "      plt.bar(letter_counts.keys(), np.array(list(letter_counts.values()))/len(text))\n",
        "    plt.ylim([0,0.2])\n",
        "    plt.xlabel('letter')\n",
        "    plt.ylabel('percentage of all letters')\n",
        "    plt.title(title)\n",
        "    plt.show()\n",
        "  return letter_counts\n",
        "\n",
        "alphabet = list(string.ascii_lowercase)\n",
        "random.shuffle(alphabet)\n",
        "cipher = dict(zip(sorted(alphabet), alphabet))\n",
        "for letter in alphabet:\n",
        "  cipher[letter.upper()] = cipher[letter].upper()\n",
        "\n",
        "original_quote = nltk.corpus.gutenberg.raw(nltk.corpus.gutenberg.fileids()[1])\n",
        "encrypted_quote = ''\n",
        "for letter in original_quote:\n",
        "  if letter in cipher.keys():\n",
        "    encrypted_quote+=(cipher[letter])\n",
        "  else:\n",
        "    encrypted_quote+=(letter)\n",
        "\n",
        "def decrypt(encrypted_quote, reverse_cipher):\n",
        "  unencrypted_quote = ''\n",
        "  for letter in encrypted_quote:\n",
        "    if letter in reverse_cipher.keys():\n",
        "      unencrypted_quote+=(reverse_cipher[letter])\n",
        "    else:\n",
        "      unencrypted_quote+=(letter)\n",
        "  return unencrypted_quote\n",
        "\n",
        "def fix_single_letter_words(encrypted_quote, reverse_cipher):\n",
        "  single_letter_words = []\n",
        "  for word in re.sub(r'[^a-zA-Z ]', '', encrypted_quote.lower()).split():\n",
        "    if len(word) == 1:\n",
        "      single_letter_words.append(word)\n",
        "  (first, count1), (second, count2) = Counter(single_letter_words).most_common()[0:2]  \n",
        "  if reverse_cipher[first] != 'a':\n",
        "    for letter in reverse_cipher.keys():\n",
        "      if reverse_cipher[letter] == 'a':\n",
        "        reverse_cipher[letter] = reverse_cipher[first]\n",
        "      if reverse_cipher[letter] == 'A':\n",
        "        reverse_cipher[letter] = reverse_cipher[first].upper()\n",
        "    reverse_cipher[first] = 'a'\n",
        "    reverse_cipher[first.upper()] = 'A'\n",
        "  if reverse_cipher[second] != 'i':\n",
        "    for letter in reverse_cipher.keys():\n",
        "      if reverse_cipher[letter] == 'i':\n",
        "        reverse_cipher[letter] = reverse_cipher[second]\n",
        "      if reverse_cipher[letter] == 'I':\n",
        "        reverse_cipher[letter] = reverse_cipher[second].upper()\n",
        "    reverse_cipher[second] = 'i'\n",
        "    reverse_cipher[second.upper()] = 'I'\n",
        "  return reverse_cipher\n",
        "\n",
        "english = set(wordlist.words())\n",
        "def get_percent_real(recovered):\n",
        "  english = set(wordlist.words())\n",
        "  reals = [word in english for word in re.sub(r'[^a-zA-Z ]', '', recovered.lower()).split()]\n",
        "  percent_real = sum(reals)/len(reals)\n",
        "  return percent_real\n",
        "\n",
        "import copy\n",
        "def swap_keys(reverse_cipher, L1, L2): \n",
        "  updated = copy.deepcopy(reverse_cipher)\n",
        "  L1V, L2V = reverse_cipher[L1], reverse_cipher[L2]\n",
        "  updated[L1], updated[L2] = L2V, L1V\n",
        "  updated[L1.upper()], updated[L2.upper()] = L2V.upper(), L1V.upper()\n",
        "  return updated\n",
        "\n",
        "def swap_keys_inplace(reverse_cipher, L1, L2): \n",
        "  L1V, L2V = reverse_cipher[L1], reverse_cipher[L2]\n",
        "  reverse_cipher[L1], reverse_cipher[L2] = L2V, L1V\n",
        "  reverse_cipher[L1.upper()], reverse_cipher[L2.upper()] = L2V.upper(), L1V.upper()\n",
        "\n",
        "\n",
        "def improve_deciphering(second_pass, reverse_cipher, percent_real_before):\n",
        "  english = set(wordlist.words())\n",
        "  c = get_letter_distribution(second_pass)\n",
        "  dists = np.ones((26,26))\n",
        "  for i in range(26):\n",
        "    for j in range(i+1,26):\n",
        "      dists[i,j] = abs(c[alphabet[i]] - c[alphabet[j]])/sum(c.values())\n",
        "  percent_real = percent_real_before\n",
        "  indeces = np.argsort(dists.flatten())\n",
        "  while percent_real < 0.81:\n",
        "    for idx in indeces:\n",
        "      i,j=np.unravel_index(idx, (26,26))\n",
        "      L1, L2 = alphabet[i], alphabet[j]\n",
        "      updated = swap_keys(reverse_cipher, L1, L2)\n",
        "      unencrypted_quote = ''\n",
        "      for letter in encrypted_quote:\n",
        "        if letter in updated.keys():\n",
        "          unencrypted_quote+=(updated[letter])\n",
        "        else:\n",
        "          unencrypted_quote+=(letter)\n",
        "      reals = [word in english for word in re.sub(r'[^a-zA-Z ]', '', unencrypted_quote.lower()).split()]\n",
        "      percent_real = sum(reals)/len(reals)\n",
        "      print(percent_real)\n",
        "      if percent_real > percent_real_before+(0.82-percent_real_before)/4:\n",
        "        print(percent_real, '\\t', L1, '\\t',L2,'\\n\\n')\n",
        "        print(re.sub(r'[^a-zA-Z ]', '', unencrypted_quote.lower())[35:776])\n",
        "        swap_keys_inplace(reverse_cipher, L1, L2)\n",
        "        percent_real_before = percent_real\n",
        "        break\n",
        "    return reverse_cipher"
      ]
    },
    {
      "cell_type": "markdown",
      "metadata": {
        "id": "ZXKEjXeO0Sgg"
      },
      "source": [
        "Let's use some cryptanalysis to solve a letter subtitution cipher. The text below is a passage from a classic novel in which each letter has been replaced with another letter from the English alphabet, with unique pairings. "
      ]
    },
    {
      "cell_type": "code",
      "execution_count": null,
      "metadata": {
        "colab": {
          "base_uri": "https://localhost:8080/",
          "height": 329
        },
        "id": "Ta1c1ZqS1qn2",
        "outputId": "3d60dcc9-772a-4fec-c5b5-1d55c361f4a0"
      },
      "outputs": [
        {
          "data": {
            "text/html": [
              "\n",
              "  <style>\n",
              "    pre {\n",
              "        white-space: pre-wrap;\n",
              "    }\n",
              "  </style>\n",
              "  "
            ],
            "text/plain": [
              "<IPython.core.display.HTML object>"
            ]
          },
          "metadata": {},
          "output_type": "display_data"
        },
        {
          "data": {
            "text/html": [
              "\n",
              "  <style>\n",
              "    pre {\n",
              "        white-space: pre-wrap;\n",
              "    }\n",
              "  </style>\n",
              "  "
            ],
            "text/plain": [
              "<IPython.core.display.HTML object>"
            ]
          },
          "metadata": {},
          "output_type": "display_data"
        },
        {
          "name": "stdout",
          "output_type": "stream",
          "text": [
            "Skxdbjf 1\n",
            "\n",
            "\n",
            "Rcf Yxabjf Jaacpb, pq Tjaangsk Kxaa, cg Rpijfrjbrkcfj, yxr x ixg ykp,\n",
            "qpf kcr pyg xihrjijgb, gjzjf bppt hd xgn oppt ohb bkj Oxfpgjbxmj;\n",
            "bkjfj kj qphge psshdxbcpg qpf xg ceaj kphf, xge spgrpaxbcpg cg x\n",
            "ecrbfjrrje pgj; bkjfj kcr qxshabcjr yjfj fphrje cgbp xeicfxbcpg xge\n",
            "fjrdjsb, on spgbjidaxbcgm bkj acicbje fjigxgb pq bkj jxfacjrb dxbjgbr;\n",
            "bkjfj xgn hgyjaspij rjgrxbcpgr, xfcrcgm qfpi epijrbcs xqqxcfr\n",
            "skxgmje gxbhfxaan cgbp dcbn xge spgbjidb xr kj bhfgje pzjf\n",
            "bkj xaiprb jgeajrr sfjxbcpgr pq bkj axrb sjgbhfn; xge bkjfj,\n",
            "cq jzjfn pbkjf ajxq yjfj dpyjfajrr, kj sphae fjxe kcr pyg kcrbpfn\n",
            "ycbk xg cgbjfjrb ykcsk gjzjf qxcaje.  Bkcr yxr bkj dxmj xb ykcsk\n",
            "bkj qxzphfcbj zpahij xayxnr pdjgje:\n",
            "\n",
            "           \"JAACPB PQ TJAANGSK KXAA.\n",
            "\n",
            "\"\n"
          ]
        }
      ],
      "source": [
        "print(encrypted_quote[35:776])"
      ]
    },
    {
      "cell_type": "markdown",
      "metadata": {
        "id": "a_CL2tY92Q6e"
      },
      "source": [
        "If we wanted to decrypt this, we could try a few approaches. We could brute force it, trying every single possible combination of unique letter replacement pairs. This comes out to $26! = 4.03e^{26}$ potential combinations, which would take a prohibitively long time to run.\n",
        "<br><br>\n",
        "A more fruitful aproach might be to use the underlying statistics of the English language to help us seed this process with educated guesses. Let's take a look at how often particular letters show up in English text (as approximated by a collection of classic novels from Project Gutenberg). "
      ]
    },
    {
      "cell_type": "code",
      "execution_count": null,
      "metadata": {
        "colab": {
          "base_uri": "https://localhost:8080/",
          "height": 851
        },
        "id": "BVbthXmHutQJ",
        "outputId": "9d8570fe-be96-43e6-a816-55128bd08088"
      },
      "outputs": [
        {
          "data": {
            "text/html": [
              "\n",
              "  <style>\n",
              "    pre {\n",
              "        white-space: pre-wrap;\n",
              "    }\n",
              "  </style>\n",
              "  "
            ],
            "text/plain": [
              "<IPython.core.display.HTML object>"
            ]
          },
          "metadata": {},
          "output_type": "display_data"
        },
        {
          "data": {
            "text/html": [
              "\n",
              "  <style>\n",
              "    pre {\n",
              "        white-space: pre-wrap;\n",
              "    }\n",
              "  </style>\n",
              "  "
            ],
            "text/plain": [
              "<IPython.core.display.HTML object>"
            ]
          },
          "metadata": {},
          "output_type": "display_data"
        },
        {
          "data": {
            "image/png": "[encoded data removed]",
            "text/plain": [
              "<Figure size 432x288 with 1 Axes>"
            ]
          },
          "metadata": {
            "needs_background": "light"
          },
          "output_type": "display_data"
        },
        {
          "data": {
            "image/png": "[encoded data removed]",
            "text/plain": [
              "<Figure size 432x288 with 1 Axes>"
            ]
          },
          "metadata": {
            "needs_background": "light"
          },
          "output_type": "display_data"
        },
        {
          "data": {
            "image/png": "[encoded data removed]",
            "text/plain": [
              "<Figure size 432x288 with 1 Axes>"
            ]
          },
          "metadata": {
            "needs_background": "light"
          },
          "output_type": "display_data"
        }
      ],
      "source": [
        "for fileid in nltk.corpus.gutenberg.fileids()[-3:]:\n",
        "  words = re.sub(r'[^a-z]', '', nltk.corpus.gutenberg.raw(fileid).lower())\n",
        "  get_letter_distribution(words, plot=True, title=fileid)"
      ]
    },
    {
      "cell_type": "markdown",
      "metadata": {
        "id": "kXcnEeaj0UyB"
      },
      "source": [
        "From the above distributions, you can see that some letters are used consistently more frequently than others across these texts. Let's take a look at the distribution defined be the average of all of these texts:"
      ]
    },
    {
      "cell_type": "code",
      "execution_count": null,
      "metadata": {
        "colab": {
          "base_uri": "https://localhost:8080/",
          "height": 573
        },
        "id": "YO6n9vk_0Wwk",
        "outputId": "10d1e8ad-4050-4007-ab6d-2d36f031a961"
      },
      "outputs": [
        {
          "data": {
            "text/html": [
              "\n",
              "  <style>\n",
              "    pre {\n",
              "        white-space: pre-wrap;\n",
              "    }\n",
              "  </style>\n",
              "  "
            ],
            "text/plain": [
              "<IPython.core.display.HTML object>"
            ]
          },
          "metadata": {},
          "output_type": "display_data"
        },
        {
          "data": {
            "text/html": [
              "\n",
              "  <style>\n",
              "    pre {\n",
              "        white-space: pre-wrap;\n",
              "    }\n",
              "  </style>\n",
              "  "
            ],
            "text/plain": [
              "<IPython.core.display.HTML object>"
            ]
          },
          "metadata": {},
          "output_type": "display_data"
        },
        {
          "data": {
            "image/png": "[encoded data removed]",
            "text/plain": [
              "<Figure size 432x288 with 1 Axes>"
            ]
          },
          "metadata": {
            "needs_background": "light"
          },
          "output_type": "display_data"
        },
        {
          "data": {
            "image/png": "[encoded data removed]",
            "text/plain": [
              "<Figure size 432x288 with 1 Axes>"
            ]
          },
          "metadata": {
            "needs_background": "light"
          },
          "output_type": "display_data"
        }
      ],
      "source": [
        "words = ''\n",
        "for fileid in nltk.corpus.gutenberg.fileids():\n",
        "  words += re.sub(r'[^a-z]', '', nltk.corpus.gutenberg.raw(fileid).lower())\n",
        "get_letter_distribution(words, plot=True, title='Averaged Distribution');\n",
        "get_letter_distribution(words, plot=True, title='Averaged Distribution; Re-Ordered', zipfian=True);"
      ]
    },
    {
      "cell_type": "markdown",
      "metadata": {
        "id": "rfY5CytS1EQU"
      },
      "source": [
        "With this knowledge about expected patterns of letter occurances, let's see how they compare to the statistics of our encrypted text."
      ]
    },
    {
      "cell_type": "code",
      "execution_count": null,
      "metadata": {
        "colab": {
          "base_uri": "https://localhost:8080/",
          "height": 573
        },
        "id": "c7Mqrp-46HCV",
        "outputId": "2e96736b-155f-4ec0-938a-81e905f3cec1"
      },
      "outputs": [
        {
          "data": {
            "text/html": [
              "\n",
              "  <style>\n",
              "    pre {\n",
              "        white-space: pre-wrap;\n",
              "    }\n",
              "  </style>\n",
              "  "
            ],
            "text/plain": [
              "<IPython.core.display.HTML object>"
            ]
          },
          "metadata": {},
          "output_type": "display_data"
        },
        {
          "data": {
            "text/html": [
              "\n",
              "  <style>\n",
              "    pre {\n",
              "        white-space: pre-wrap;\n",
              "    }\n",
              "  </style>\n",
              "  "
            ],
            "text/plain": [
              "<IPython.core.display.HTML object>"
            ]
          },
          "metadata": {},
          "output_type": "display_data"
        },
        {
          "data": {
            "image/png": "[encoded data removed]",
            "text/plain": [
              "<Figure size 432x288 with 1 Axes>"
            ]
          },
          "metadata": {
            "needs_background": "light"
          },
          "output_type": "display_data"
        },
        {
          "data": {
            "image/png": "[encoded data removed]",
            "text/plain": [
              "<Figure size 432x288 with 1 Axes>"
            ]
          },
          "metadata": {
            "needs_background": "light"
          },
          "output_type": "display_data"
        }
      ],
      "source": [
        "get_letter_distribution(encrypted_quote, plot=True, title='Encrypted Distribution');\n",
        "get_letter_distribution(encrypted_quote, plot=True, title='Encrypted Distribution; Re-Ordered', zipfian=True);"
      ]
    },
    {
      "cell_type": "markdown",
      "metadata": {
        "id": "i6j1ATgyLvaX"
      },
      "source": [
        "As the above distribution shows us, even though each individual letter in the encrypted text no longer has the same occurance probability as it does in typical English text, the general shape of the re-ordered distribution is still the same. We can use this to build a first-pass remapping to attempt deciphering the encrypted text, substituting each encrypted letter with the English letter closest in usage frequency.\n"
      ]
    },
    {
      "cell_type": "code",
      "execution_count": null,
      "metadata": {
        "colab": {
          "base_uri": "https://localhost:8080/",
          "height": 17
        },
        "id": "7MG6KBzi7hit",
        "outputId": "e34e2765-1a1f-4514-9145-0b190de67534"
      },
      "outputs": [
        {
          "data": {
            "text/html": [
              "\n",
              "  <style>\n",
              "    pre {\n",
              "        white-space: pre-wrap;\n",
              "    }\n",
              "  </style>\n",
              "  "
            ],
            "text/plain": [
              "<IPython.core.display.HTML object>"
            ]
          },
          "metadata": {},
          "output_type": "display_data"
        },
        {
          "data": {
            "text/html": [
              "\n",
              "  <style>\n",
              "    pre {\n",
              "        white-space: pre-wrap;\n",
              "    }\n",
              "  </style>\n",
              "  "
            ],
            "text/plain": [
              "<IPython.core.display.HTML object>"
            ]
          },
          "metadata": {},
          "output_type": "display_data"
        }
      ],
      "source": [
        "quote_dist = list(map(lambda x: x[0], Counter(re.sub(r'[^a-z]', '', encrypted_quote.lower())).most_common()))\n",
        "english_dist = list(map(lambda x: x[0], Counter(re.sub(r'[^a-z]', '', words.lower())).most_common()))\n",
        "reverse_cipher = dict(zip(quote_dist, english_dist))\n",
        "for letter in alphabet:\n",
        "  reverse_cipher[letter.upper()] = reverse_cipher[letter].upper()"
      ]
    },
    {
      "cell_type": "code",
      "execution_count": null,
      "metadata": {
        "colab": {
          "base_uri": "https://localhost:8080/",
          "height": 329
        },
        "id": "kso6pkEXZeuE",
        "outputId": "1ad4fc0d-8661-49fa-a657-a86a6a954228"
      },
      "outputs": [
        {
          "data": {
            "text/html": [
              "\n",
              "  <style>\n",
              "    pre {\n",
              "        white-space: pre-wrap;\n",
              "    }\n",
              "  </style>\n",
              "  "
            ],
            "text/plain": [
              "<IPython.core.display.HTML object>"
            ]
          },
          "metadata": {},
          "output_type": "display_data"
        },
        {
          "data": {
            "text/html": [
              "\n",
              "  <style>\n",
              "    pre {\n",
              "        white-space: pre-wrap;\n",
              "    }\n",
              "  </style>\n",
              "  "
            ],
            "text/plain": [
              "<IPython.core.display.HTML object>"
            ]
          },
          "metadata": {},
          "output_type": "display_data"
        },
        {
          "name": "stdout",
          "output_type": "stream",
          "text": [
            "Fiabter 1\n",
            "\n",
            "\n",
            "Snr Wadter Eddnot, oc Keddyhfi Iadd, nh Somersetsinre, was a mah wio,\n",
            "cor ins owh amusemeht, hever took ub ahy pook put tie Parohetage;\n",
            "tiere ie couhl offubatnoh cor ah nlde iour, ahl fohsodatnoh nh a\n",
            "lnstressel ohe; tiere ins cafudtnes were rousel nhto almnratnoh ahl\n",
            "resbeft, py fohtembdatnhg tie dnmntel remhaht oc tie eardnest batehts;\n",
            "tiere ahy uhwedfome sehsatnohs, arnsnhg crom lomestnf accanrs\n",
            "fiahgel haturaddy nhto bnty ahl fohtembt as ie turhel over\n",
            "tie admost ehldess freatnohs oc tie dast fehtury; ahl tiere,\n",
            "nc every otier deac were bowerdess, ie foudl real ins owh instory\n",
            "wnti ah nhterest winfi hever candel.  Tins was tie bage at winfi\n",
            "tie cavournte vodume adways obehel:\n",
            "\n",
            "           \"EDDNOT OC KEDDYHFI IADD.\n",
            "\n",
            "\"\n"
          ]
        }
      ],
      "source": [
        "first_pass = decrypt(encrypted_quote, reverse_cipher)\n",
        "print(first_pass[35:776])"
      ]
    },
    {
      "cell_type": "markdown",
      "metadata": {
        "id": "DqPKao5xaJnj"
      },
      "source": [
        "While our first pass definitely gets us closer to the original text, it's not quite good enough (unless you, like yours truly, happen to be both a Jane Austen fan and one accustomed to reading through heavy mispellings). \n",
        "<br><br>\n",
        "At this point, we'll want to use some basic facts about English to help us out. For example, we want to make sure that any single-letter words are either assigned to A or I. "
      ]
    },
    {
      "cell_type": "code",
      "execution_count": null,
      "metadata": {
        "colab": {
          "base_uri": "https://localhost:8080/",
          "height": 329
        },
        "id": "laJUmPcSPL5f",
        "outputId": "982727da-ecb0-45ab-bed7-745fef887157"
      },
      "outputs": [
        {
          "data": {
            "text/html": [
              "\n",
              "  <style>\n",
              "    pre {\n",
              "        white-space: pre-wrap;\n",
              "    }\n",
              "  </style>\n",
              "  "
            ],
            "text/plain": [
              "<IPython.core.display.HTML object>"
            ]
          },
          "metadata": {},
          "output_type": "display_data"
        },
        {
          "data": {
            "text/html": [
              "\n",
              "  <style>\n",
              "    pre {\n",
              "        white-space: pre-wrap;\n",
              "    }\n",
              "  </style>\n",
              "  "
            ],
            "text/plain": [
              "<IPython.core.display.HTML object>"
            ]
          },
          "metadata": {},
          "output_type": "display_data"
        },
        {
          "name": "stdout",
          "output_type": "stream",
          "text": [
            "Fnabter 1\n",
            "\n",
            "\n",
            "Sir Wadter Eddiot, oc Keddyhfn Nadd, ih Somersetsnire, was a mah wno,\n",
            "cor nis owh amusemeht, hever took ub ahy pook put tne Parohetage;\n",
            "tnere ne couhl offubatioh cor ah ilde nour, ahl fohsodatioh ih a\n",
            "listressel ohe; tnere nis cafudties were rousel ihto almiratioh ahl\n",
            "resbeft, py fohtembdatihg tne dimitel remhaht oc tne eardiest batehts;\n",
            "tnere ahy uhwedfome sehsatiohs, arisihg crom lomestif accairs\n",
            "fnahgel haturaddy ihto bity ahl fohtembt as ne turhel over\n",
            "tne admost ehldess freatiohs oc tne dast fehtury; ahl tnere,\n",
            "ic every otner deac were bowerdess, ne foudl real nis owh nistory\n",
            "witn ah ihterest wnifn hever caidel.  Tnis was tne bage at wnifn\n",
            "tne cavourite vodume adways obehel:\n",
            "\n",
            "           \"EDDIOT OC KEDDYHFN NADD.\n",
            "\n",
            "\"\n"
          ]
        }
      ],
      "source": [
        "reverse_cipher = fix_single_letter_words(encrypted_quote, reverse_cipher)\n",
        "second_pass = decrypt(encrypted_quote, reverse_cipher)\n",
        "print(second_pass[35:776])"
      ]
    },
    {
      "cell_type": "markdown",
      "metadata": {
        "id": "MC6_2FSeb8W5"
      },
      "source": [
        "Intuitively, this text feels closer to English text than the previous two. But at this point, we might decide that we want a better metric to determine closeness to the original text than our gut feeling of what looks better.\n",
        "<br><br>\n",
        "As we go through the decrypted text (which is significantly larger than the single-paragraph sample displayed above), we can use a cannonical list of English words, then check what percentage of the words in our recovered text are true English words.  "
      ]
    },
    {
      "cell_type": "code",
      "execution_count": null,
      "metadata": {
        "colab": {
          "base_uri": "https://localhost:8080/",
          "height": 34
        },
        "id": "93peeSaFwrOj",
        "outputId": "57dd7c76-eaf3-426c-f5a2-c380ea1ca427"
      },
      "outputs": [
        {
          "data": {
            "text/html": [
              "\n",
              "  <style>\n",
              "    pre {\n",
              "        white-space: pre-wrap;\n",
              "    }\n",
              "  </style>\n",
              "  "
            ],
            "text/plain": [
              "<IPython.core.display.HTML object>"
            ]
          },
          "metadata": {},
          "output_type": "display_data"
        },
        {
          "data": {
            "text/html": [
              "\n",
              "  <style>\n",
              "    pre {\n",
              "        white-space: pre-wrap;\n",
              "    }\n",
              "  </style>\n",
              "  "
            ],
            "text/plain": [
              "<IPython.core.display.HTML object>"
            ]
          },
          "metadata": {},
          "output_type": "display_data"
        },
        {
          "name": "stdout",
          "output_type": "stream",
          "text": [
            "0.29535548269005385 % of recovered words were valid English\n"
          ]
        }
      ],
      "source": [
        "percent_real_before = get_percent_real(second_pass)\n",
        "print(percent_real_before,'% of recovered words were valid English')"
      ]
    },
    {
      "cell_type": "markdown",
      "metadata": {
        "id": "5X0JnV5QdbGY"
      },
      "source": [
        "We can definitely do better than 30% -- in fact, the original text contains 81.7% accepted English words. In order to improve our decryption, we'll try swapping out letter mappings for letters that have the most similar probabilities in English (i.e. R and S both constitute approximately 7.2% of letters used in this corpus). If the percentage of accepted English words improves by making a substitution, we keep it. Let's watch this technique at work. *N.B. This make take a few minutes; feel free to make a nice cup of tea while the next cell runs!*"
      ]
    },
    {
      "cell_type": "code",
      "execution_count": 1,
      "metadata": {
        "colab": {
          "base_uri": "https://localhost:8080/",
          "height": 1000
        },
        "id": "oxKSeu6d3h1k",
        "outputId": "2ad83429-c92a-4671-8fd1-aea9925a6148"
      },
      "outputs": [
        {
          "ename": "NameError",
          "evalue": "name 'get_letter_distribution' is not defined",
          "output_type": "error",
          "traceback": [
            "\u001b[0;31m---------------------------------------------------------------------------\u001b[0m",
            "\u001b[0;31mNameError\u001b[0m                                 Traceback (most recent call last)",
            "\u001b[0;32m<ipython-input-1-682153299df3>\u001b[0m in \u001b[0;36m<module>\u001b[0;34m\u001b[0m\n\u001b[1;32m      1\u001b[0m \u001b[0;31m#@markdown Run this to improve the deciphering!  { display-mode: \"form\" }\u001b[0m\u001b[0;34m\u001b[0m\u001b[0;34m\u001b[0m\u001b[0;34m\u001b[0m\u001b[0m\n\u001b[0;32m----> 2\u001b[0;31m \u001b[0mc\u001b[0m \u001b[0;34m=\u001b[0m \u001b[0mget_letter_distribution\u001b[0m\u001b[0;34m(\u001b[0m\u001b[0msecond_pass\u001b[0m\u001b[0;34m)\u001b[0m\u001b[0;34m\u001b[0m\u001b[0;34m\u001b[0m\u001b[0m\n\u001b[0m\u001b[1;32m      3\u001b[0m \u001b[0mdists\u001b[0m \u001b[0;34m=\u001b[0m \u001b[0mnp\u001b[0m\u001b[0;34m.\u001b[0m\u001b[0mones\u001b[0m\u001b[0;34m(\u001b[0m\u001b[0;34m(\u001b[0m\u001b[0;36m26\u001b[0m\u001b[0;34m,\u001b[0m\u001b[0;36m26\u001b[0m\u001b[0;34m)\u001b[0m\u001b[0;34m)\u001b[0m\u001b[0;34m\u001b[0m\u001b[0;34m\u001b[0m\u001b[0m\n\u001b[1;32m      4\u001b[0m \u001b[0;32mfor\u001b[0m \u001b[0mi\u001b[0m \u001b[0;32min\u001b[0m \u001b[0mrange\u001b[0m\u001b[0;34m(\u001b[0m\u001b[0;36m26\u001b[0m\u001b[0;34m)\u001b[0m\u001b[0;34m:\u001b[0m\u001b[0;34m\u001b[0m\u001b[0;34m\u001b[0m\u001b[0m\n\u001b[1;32m      5\u001b[0m   \u001b[0;32mfor\u001b[0m \u001b[0mj\u001b[0m \u001b[0;32min\u001b[0m \u001b[0mrange\u001b[0m\u001b[0;34m(\u001b[0m\u001b[0mi\u001b[0m\u001b[0;34m+\u001b[0m\u001b[0;36m1\u001b[0m\u001b[0;34m,\u001b[0m\u001b[0;36m26\u001b[0m\u001b[0;34m)\u001b[0m\u001b[0;34m:\u001b[0m\u001b[0;34m\u001b[0m\u001b[0;34m\u001b[0m\u001b[0m\n",
            "\u001b[0;31mNameError\u001b[0m: name 'get_letter_distribution' is not defined"
          ]
        }
      ],
      "source": [
        "c = get_letter_distribution(second_pass)\n",
        "dists = np.ones((26,26))\n",
        "for i in range(26):\n",
        "  for j in range(i+1,26):\n",
        "    dists[i,j] = abs(c[alphabet[i]] - c[alphabet[j]])/sum(c.values())\n",
        "percent_real = percent_real_before\n",
        "indeces = np.argsort(dists.flatten())\n",
        "while percent_real < 0.81:\n",
        "  for idx in indeces:\n",
        "    i,j = np.unravel_index(idx, (26,26))\n",
        "    L1, L2 = alphabet[i], alphabet[j]\n",
        "    updated = swap_keys(reverse_cipher, L1, L2)\n",
        "    unencrypted_quote = ''\n",
        "    for letter in encrypted_quote:\n",
        "      if letter in updated.keys():\n",
        "        unencrypted_quote += (updated[letter])\n",
        "      else:\n",
        "        unencrypted_quote += (letter)\n",
        "    reals = [word in english for word in re.sub(r'[^a-zA-Z ]', '', unencrypted_quote.lower()).split()]\n",
        "    percent_real = sum(reals)/len(reals)\n",
        "    if percent_real > percent_real_before+(0.82-percent_real_before)/4:\n",
        "      print('swap', L1.upper(), 'and',L2.upper(),'\\tpercent valid English words:', percent_real,'\\n\\n')\n",
        "      # print(re.sub(r'[^a-zA-Z ]', '', unencrypted_quote.lower())[35:776])\n",
        "      print(unencrypted_quote[35:776])\n",
        "      swap_keys_inplace(reverse_cipher, L1, L2)\n",
        "      percent_real_before = percent_real\n",
        "      break"
      ]
    },
    {
      "cell_type": "markdown",
      "metadata": {
        "id": "EnhDUjmsqueW"
      },
      "source": [
        "And here we find outselves with the fully recovered opening paragraph of Jane Austen's timeless classic *Persuasion*, decrypted in a computationally feasible timeframe, based solely on our pre-existing knowledge of how frequently different letters are used in the English language.\n",
        "<br><br>\n",
        "Now that you (hopefully!) have a stronger intuition for frequency-based decryption techniques, my recommended reading is [A cryptography-based approach for movement decoding](https://www.nature.com/articles/s41551-017-0169-7) from Eva Dyer and her colleagues in Konrad Kording's lab, who used this frequency-based approach to decode motor activity from macaque neural recordings. "
      ]
    }
  ],
  "metadata": {
    "colab": {
      "name": "Introductory Cryptography for Neuro",
      "provenance": []
    },
    "kernelspec": {
      "display_name": "Python 3",
      "name": "python3"
    },
    "language_info": {
      "codemirror_mode": {
        "name": "ipython",
        "version": 3
      },
      "file_extension": ".py",
      "mimetype": "text/x-python",
      "name": "python",
      "nbconvert_exporter": "python",
      "pygments_lexer": "ipython3",
      "version": "3.8.8"
    }
  },
  "nbformat": 4,
  "nbformat_minor": 0
}
